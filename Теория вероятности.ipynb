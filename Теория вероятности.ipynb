{
 "cells": [
  {
   "cell_type": "code",
   "execution_count": 2,
   "id": "4182b552-c31d-4b49-8acd-bf5c967d6352",
   "metadata": {},
   "outputs": [],
   "source": [
    "import math"
   ]
  },
  {
   "cell_type": "code",
   "execution_count": 4,
   "id": "d2882865-8de9-4f75-9ff0-756cc0df0e63",
   "metadata": {},
   "outputs": [
    {
     "data": {
      "text/plain": [
       "24"
      ]
     },
     "execution_count": 4,
     "metadata": {},
     "output_type": "execute_result"
    }
   ],
   "source": [
    "m.factorial(4)"
   ]
  },
  {
   "cell_type": "markdown",
   "id": "b599ab37-15ef-43f2-b155-d5cb073e53d5",
   "metadata": {},
   "source": [
    "Сколько можнос составить комбинаций из 6-ти флажков всятых по 2\n",
    "\n",
    "$A_n^m = n(n-m+1)$"
   ]
  },
  {
   "cell_type": "code",
   "execution_count": 6,
   "id": "17f7c535-f8a0-4df6-bb74-f03cfded4fb6",
   "metadata": {},
   "outputs": [
    {
     "data": {
      "text/plain": [
       "30"
      ]
     },
     "execution_count": 6,
     "metadata": {},
     "output_type": "execute_result"
    }
   ],
   "source": [
    "n = 6\n",
    "m = 2\n",
    "n * (n - m + 1)"
   ]
  },
  {
   "cell_type": "markdown",
   "id": "02a88fb7-4084-409b-8e4b-9d9e84f5d025",
   "metadata": {},
   "source": [
    "Сколькими способами можно выбрать 2 детали из ящика содержащего 10 деталей\n",
    "\n",
    "$C_n^m = n!/(m!(n-m)!)$"
   ]
  },
  {
   "cell_type": "code",
   "execution_count": 7,
   "id": "29d3a634-3c99-4123-b942-2f79938fa73b",
   "metadata": {},
   "outputs": [
    {
     "data": {
      "text/plain": [
       "45.0"
      ]
     },
     "execution_count": 7,
     "metadata": {},
     "output_type": "execute_result"
    }
   ],
   "source": [
    "n = 10\n",
    "m = 2\n",
    "math.factorial(n) / (math.factorial(m) * math.factorial(n - m))"
   ]
  },
  {
   "cell_type": "code",
   "execution_count": null,
   "id": "8e001a09-ae95-4c1d-966b-d253d88252b5",
   "metadata": {},
   "outputs": [],
   "source": []
  }
 ],
 "metadata": {
  "kernelspec": {
   "display_name": "Python 3",
   "language": "python",
   "name": "python3"
  },
  "language_info": {
   "codemirror_mode": {
    "name": "ipython",
    "version": 3
   },
   "file_extension": ".py",
   "mimetype": "text/x-python",
   "name": "python",
   "nbconvert_exporter": "python",
   "pygments_lexer": "ipython3",
   "version": "3.9.5"
  }
 },
 "nbformat": 4,
 "nbformat_minor": 5
}
