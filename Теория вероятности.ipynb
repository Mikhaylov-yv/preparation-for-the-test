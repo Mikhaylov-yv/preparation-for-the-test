{
 "cells": [
  {
   "cell_type": "code",
   "execution_count": 2,
   "id": "4182b552-c31d-4b49-8acd-bf5c967d6352",
   "metadata": {},
   "outputs": [],
   "source": [
    "import math as m"
   ]
  },
  {
   "cell_type": "code",
   "execution_count": 4,
   "id": "d2882865-8de9-4f75-9ff0-756cc0df0e63",
   "metadata": {},
   "outputs": [
    {
     "data": {
      "text/plain": [
       "24"
      ]
     },
     "execution_count": 4,
     "metadata": {},
     "output_type": "execute_result"
    }
   ],
   "source": [
    "m.factorial(4)"
   ]
  },
  {
   "cell_type": "markdown",
   "id": "b599ab37-15ef-43f2-b155-d5cb073e53d5",
   "metadata": {},
   "source": [
    "Сколько можнос составить комбинаций из 6-ти флажков всятых по 2"
   ]
  },
  {
   "cell_type": "code",
   "execution_count": null,
   "id": "17f7c535-f8a0-4df6-bb74-f03cfded4fb6",
   "metadata": {},
   "outputs": [],
   "source": [
    "m.factorial(6)"
   ]
  }
 ],
 "metadata": {
  "kernelspec": {
   "display_name": "Python 3",
   "language": "python",
   "name": "python3"
  },
  "language_info": {
   "codemirror_mode": {
    "name": "ipython",
    "version": 3
   },
   "file_extension": ".py",
   "mimetype": "text/x-python",
   "name": "python",
   "nbconvert_exporter": "python",
   "pygments_lexer": "ipython3",
   "version": "3.9.5"
  }
 },
 "nbformat": 4,
 "nbformat_minor": 5
}
