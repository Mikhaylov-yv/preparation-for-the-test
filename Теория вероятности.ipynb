{
 "cells": [
  {
   "cell_type": "code",
   "execution_count": 1,
   "id": "4182b552-c31d-4b49-8acd-bf5c967d6352",
   "metadata": {},
   "outputs": [],
   "source": [
    "import math\n",
    "from fractions import Fraction"
   ]
  },
  {
   "cell_type": "markdown",
   "id": "bbed7adf-7589-45d2-82b2-9b0fdb3a1e4d",
   "metadata": {},
   "source": [
    "## Размещения"
   ]
  },
  {
   "cell_type": "markdown",
   "id": "b599ab37-15ef-43f2-b155-d5cb073e53d5",
   "metadata": {},
   "source": [
    "Сколько можнос составить комбинаций из 6-ти флажков всятых по 2\n",
    "\n",
    "$A_n^m = \\frac{n!}{(n-m+1)!}$"
   ]
  },
  {
   "cell_type": "code",
   "execution_count": 2,
   "id": "e6fbbccf-470e-4c69-82b9-747f0bab5873",
   "metadata": {},
   "outputs": [],
   "source": [
    "def A_razm(n, m):\n",
    "    return math.factorial(n) / math.factorial(n - m)"
   ]
  },
  {
   "cell_type": "code",
   "execution_count": 3,
   "id": "17f7c535-f8a0-4df6-bb74-f03cfded4fb6",
   "metadata": {},
   "outputs": [
    {
     "data": {
      "text/plain": [
       "90"
      ]
     },
     "execution_count": 3,
     "metadata": {},
     "output_type": "execute_result"
    }
   ],
   "source": [
    "n = 10\n",
    "m = 2\n",
    "n * (n - m + 1)"
   ]
  },
  {
   "cell_type": "markdown",
   "id": "4ad24eb6-13ef-48a2-a126-4a4fc4ad3b6b",
   "metadata": {},
   "source": [
    "## Сочетания"
   ]
  },
  {
   "cell_type": "markdown",
   "id": "02a88fb7-4084-409b-8e4b-9d9e84f5d025",
   "metadata": {},
   "source": [
    "Сколькими способами можно выбрать 2 детали из ящика содержащего 10 деталей\n",
    "\n",
    "$C_n^m = \\frac{n!}{(m!(n-m)!)}$"
   ]
  },
  {
   "cell_type": "code",
   "execution_count": 4,
   "id": "dd322e0f-112d-4746-bf43-954ef81a96d7",
   "metadata": {},
   "outputs": [],
   "source": [
    "def C_soch(n, m):\n",
    "    return math.factorial(n) / \\\n",
    "            (math.factorial(m) * math.factorial(n - m))"
   ]
  },
  {
   "cell_type": "code",
   "execution_count": 5,
   "id": "29d3a634-3c99-4123-b942-2f79938fa73b",
   "metadata": {},
   "outputs": [
    {
     "data": {
      "text/plain": [
       "45.0"
      ]
     },
     "execution_count": 5,
     "metadata": {},
     "output_type": "execute_result"
    }
   ],
   "source": [
    "n = 10\n",
    "m = 2\n",
    "math.factorial(n) / (math.factorial(m) * math.factorial(n - m))"
   ]
  },
  {
   "cell_type": "markdown",
   "id": "fc244d06-984f-4265-984c-a9f7a8cb53d6",
   "metadata": {},
   "source": [
    "## Формула бернули\n",
    "Pn(k)=Crnpkqn−k \n",
    "или\n",
    "\n",
    "Pn(k)=n!K!(n−k)!pkqn−k"
   ]
  },
  {
   "cell_type": "code",
   "execution_count": 24,
   "id": "8efc88f2-9d7f-4f39-a9bf-3014ae8bbadf",
   "metadata": {},
   "outputs": [],
   "source": [
    "def p_bern(n, k, p):\n",
    "    q = 1 - p\n",
    "    return (math.factorial(n) / (math.factorial(k) * math.factorial(n - k))) * (p**k) * (q**(n-k))"
   ]
  },
  {
   "cell_type": "markdown",
   "id": "d4248dd5-d18c-4790-b624-ab06208a7a2d",
   "metadata": {},
   "source": [
    "Вероятность того, что расход электроэнергии в продолжении одних суток не привысит установленной нормы, равна 0,75. Найти вероятность того, что в ближайшие 6 суток расход электроэнергии в течении 4 суток не привысит нормы.\n",
    "\n",
    "0,3"
   ]
  },
  {
   "cell_type": "code",
   "execution_count": 25,
   "id": "95db74fb-7de2-43f2-8c54-4222188ef6bd",
   "metadata": {},
   "outputs": [
    {
     "data": {
      "text/plain": [
       "0.296630859375"
      ]
     },
     "execution_count": 25,
     "metadata": {},
     "output_type": "execute_result"
    }
   ],
   "source": [
    "p_bern(6, 4, 0.75)"
   ]
  },
  {
   "cell_type": "markdown",
   "id": "9869a573-4b13-4034-bf23-a13e41ef9c27",
   "metadata": {},
   "source": [
    "## Формула Лапласса\n",
    "Pn(k)=1npq√∗ϕ(x) \n",
    "где:\n",
    "\n",
    "x=k−npnpq√"
   ]
  },
  {
   "cell_type": "code",
   "execution_count": 6,
   "id": "272d8180-e83b-4753-9ee5-d65f7152bf8e",
   "metadata": {},
   "outputs": [],
   "source": [
    "def p_lapl(n, k, p):\n",
    "    q = 1 - p\n",
    "    x = (k - n * p) / (n * p * q)**(1/2)\n",
    "    f_x = (1 /((2 * math.pi)**(1/2))) * math.e ** (-1 * x**3 / 2)\n",
    "    return (1 / (n * p * q)**(1/2) ) *  f_x"
   ]
  },
  {
   "cell_type": "markdown",
   "id": "da2cbb74-97eb-4678-bae9-850cdb39f619",
   "metadata": {},
   "source": [
    "Найти вероятность того, что событие А наступит ровно 80 раз в 400 испытаниях, если вероятность появления этого события в каждом испытании равна 0,2"
   ]
  },
  {
   "cell_type": "code",
   "execution_count": 26,
   "id": "3ddf63ad-db4c-4055-bfa0-f233017697bb",
   "metadata": {},
   "outputs": [
    {
     "data": {
      "text/plain": [
       "0.04981327224985552"
      ]
     },
     "execution_count": 26,
     "metadata": {},
     "output_type": "execute_result"
    }
   ],
   "source": [
    "p_bern(400, 80, 0.2)"
   ]
  },
  {
   "cell_type": "code",
   "execution_count": 27,
   "id": "e9179784-5532-42cf-a409-87af1d1f3e72",
   "metadata": {},
   "outputs": [
    {
     "data": {
      "text/plain": [
       "0.04986778505017909"
      ]
     },
     "execution_count": 27,
     "metadata": {},
     "output_type": "execute_result"
    }
   ],
   "source": [
    "p_lapl(400, 80, 0.2)"
   ]
  },
  {
   "cell_type": "markdown",
   "id": "3e64ba9d-f111-41dc-87b2-57a1719895d3",
   "metadata": {},
   "source": [
    "Завод отправил на базу 5000 доброкачественных изделий. Вероятность того, что в пути изделия повредятся, равно 0,0002. Найти вероятность того, что на базу прибудут 3 негодных изделия."
   ]
  },
  {
   "cell_type": "markdown",
   "id": "f5dc0593-9b6a-44d7-9295-1c1fbe0fb0c0",
   "metadata": {},
   "source": [
    "## Формула Пуассона¶\n",
    "Pt(k)=(λt)k∗e−λtk!"
   ]
  },
  {
   "cell_type": "code",
   "execution_count": 22,
   "id": "825620d0-eee0-4e81-8fd9-fff6229821f1",
   "metadata": {},
   "outputs": [],
   "source": [
    "def p_puans(lam, t, k, param = '='):\n",
    "    if param == '=':\n",
    "        p = (((lam * t)**k) * math.e**(-1 * lam * t)) / math.factorial(k)\n",
    "        return round(p, 6)\n",
    "    elif param == '<':\n",
    "        k -= 1\n",
    "        p = 0\n",
    "        for k in range(0,k):\n",
    "            p += (((lam * t)**k) * math.e**(-1 * lam * t)) / math.factorial(k)\n",
    "        return round(p, 6)\n",
    "    elif param == '>':\n",
    "        return 1 - (((lam * t)**k) * math.e**(-1 * lam * t)) / math.factorial(k)\n",
    "    return ''"
   ]
  },
  {
   "cell_type": "markdown",
   "id": "00973b50-d116-4c29-bfd1-7090e8829ea5",
   "metadata": {},
   "source": [
    "Среднее число вызовов, поступающих на АТС в одну минуту, равно двум. Найти вероятность того, что за 5 минут поступит:\n",
    "\n",
    "    а) 2 вызова\n",
    "    б) меньше двух вызовов\n",
    "    в) не менее двух вызовов\n",
    "\n",
    "Поток вызовов предполагается простейшим"
   ]
  },
  {
   "cell_type": "code",
   "execution_count": 23,
   "id": "8ad4f59e-1f21-4d52-bd2a-29fa5ce0eb9e",
   "metadata": {},
   "outputs": [
    {
     "name": "stdout",
     "output_type": "stream",
     "text": [
      "0.00227\n",
      "4.5e-05\n",
      "0.9995460007023752\n"
     ]
    }
   ],
   "source": [
    "print(p_puans(2, 5, 2))\n",
    "print(p_puans(2, 5, 2, '<'))\n",
    "print(p_puans(2, 5, 1, '>'))"
   ]
  },
  {
   "cell_type": "markdown",
   "id": "954cef0d-5e74-4407-8ea7-0cc98c62d5f6",
   "metadata": {},
   "source": [
    "## Геометрическое распределение\n",
    "P(X=k)=qk−1p"
   ]
  },
  {
   "cell_type": "code",
   "execution_count": 8,
   "id": "a09a2d10-5a8f-4884-b3c7-b4d6e7946404",
   "metadata": {},
   "outputs": [],
   "source": [
    "def geo_raspr(p, k):\n",
    "    q = 1 -p\n",
    "    return (q**(k-1)) * p"
   ]
  },
  {
   "cell_type": "markdown",
   "id": "be970539-f13e-49fd-9594-f9f91d565f7a",
   "metadata": {},
   "source": [
    "Из орудия производится стрельба по цели до первого попадания в цель. Вероятность попадания 0,6. Найти вероятность того, что попадание произойдет при третьем выстреле.\n",
    "\n",
    "0,096"
   ]
  },
  {
   "cell_type": "code",
   "execution_count": 9,
   "id": "f172644c-ac49-4a8f-b6f7-898a17cdec4d",
   "metadata": {},
   "outputs": [
    {
     "data": {
      "text/plain": [
       "0.09600000000000002"
      ]
     },
     "execution_count": 9,
     "metadata": {},
     "output_type": "execute_result"
    }
   ],
   "source": [
    "geo_raspr(0.6, 3)"
   ]
  },
  {
   "cell_type": "markdown",
   "id": "48b3dd12-387d-4bb4-b667-2478334825b0",
   "metadata": {},
   "source": [
    "## Задачи к главе 1"
   ]
  },
  {
   "cell_type": "markdown",
   "id": "ed5bad67-4938-48bd-9ecb-0a295ae36561",
   "metadata": {},
   "source": [
    "В ящике имеются 50 одинаковых деталей, из них 5 окрашены. Наудачу вынимают одну деталь. Найти вероятность того, что извленная деталь окажется окрашенной."
   ]
  },
  {
   "cell_type": "code",
   "execution_count": 10,
   "id": "d1caa947-5b5e-461d-aea6-fee0247efe9a",
   "metadata": {},
   "outputs": [
    {
     "data": {
      "text/plain": [
       "0.1"
      ]
     },
     "execution_count": 10,
     "metadata": {},
     "output_type": "execute_result"
    }
   ],
   "source": [
    "5/50"
   ]
  },
  {
   "cell_type": "markdown",
   "id": "7f0a7f01-9e4d-42ca-b56a-0519442f4ea9",
   "metadata": {},
   "source": [
    "Брошена игральная кость. Найти вероятность того, что выпадет четное число очков"
   ]
  },
  {
   "cell_type": "code",
   "execution_count": 11,
   "id": "8fb51867-5239-43b0-be99-1a9ac25d5e7a",
   "metadata": {},
   "outputs": [
    {
     "data": {
      "text/plain": [
       "0.5"
      ]
     },
     "execution_count": 11,
     "metadata": {},
     "output_type": "execute_result"
    }
   ],
   "source": [
    "3/6"
   ]
  },
  {
   "cell_type": "code",
   "execution_count": 12,
   "id": "efdd5f25-a681-42dc-824a-10b6d8d8a71a",
   "metadata": {},
   "outputs": [
    {
     "data": {
      "text/plain": [
       "0.81"
      ]
     },
     "execution_count": 12,
     "metadata": {},
     "output_type": "execute_result"
    }
   ],
   "source": [
    "n = 0\n",
    "num_list = [str(i) for i in range(1,101)]\n",
    "for i in num_list:\n",
    "    if '5' in i: n += 1\n",
    "1 - n / len(num_list)"
   ]
  },
  {
   "cell_type": "markdown",
   "id": "fe9c7d81-bbff-41fb-ab81-94872d8dca8c",
   "metadata": {},
   "source": [
    "В мешочке имеются 5 одинаковых кубиков. На всех гранях каждого кубика написана одна из следущих букв: **о, п, р, с, т**. Найти вероятность того, что на вынутых по одному и расположенных \"в одну линию\" кубиках можно будет прочесть слово \"спорт\" "
   ]
  },
  {
   "cell_type": "code",
   "execution_count": 13,
   "id": "3ec02b77-28d4-4ff8-935e-508795c681d4",
   "metadata": {},
   "outputs": [
    {
     "data": {
      "text/plain": [
       "0.008333333333333333"
      ]
     },
     "execution_count": 13,
     "metadata": {},
     "output_type": "execute_result"
    }
   ],
   "source": [
    "n = 5\n",
    "m = 5\n",
    "1 / math.factorial(n)"
   ]
  },
  {
   "cell_type": "markdown",
   "id": "7e792e3f-6d84-4913-81d7-e2f173c9eb19",
   "metadata": {},
   "source": [
    "На каждой из шести одинаковых карточек напечатана одна из следующих букв **а, т м, р, с, о**. Карточки тчательно перемешаны. Найти вероятность того, что на четырех, вынутых по одной и расположенных в одну линию карточках можно будет прочесть слово \"трос\""
   ]
  },
  {
   "cell_type": "code",
   "execution_count": 14,
   "id": "6a14bb5f-996b-46d8-9149-af74d082caa0",
   "metadata": {},
   "outputs": [
    {
     "data": {
      "text/plain": [
       "0.002777777777777778"
      ]
     },
     "execution_count": 14,
     "metadata": {},
     "output_type": "execute_result"
    }
   ],
   "source": [
    "n = 6\n",
    "m = 4\n",
    "# n * (n - m + 1)\n",
    "1 / A_razm(n, m)"
   ]
  },
  {
   "cell_type": "markdown",
   "id": "2e50e037-a431-476c-8b46-6d6017185f59",
   "metadata": {},
   "source": [
    "Куб, все грани которого окрашены, распилили на тысячу кубиков одинакого размера, которые затем тщательно перемешаны. Найти веротность того, что наудачу извлеченный кубик будет иметь окрашенных граней а) 1; б) 2; в) 3;"
   ]
  },
  {
   "cell_type": "code",
   "execution_count": 15,
   "id": "7fb6c8c3-3783-4123-9b05-36065b031bd4",
   "metadata": {},
   "outputs": [
    {
     "data": {
      "text/plain": [
       "(0.48, 0.112, 0.008)"
      ]
     },
     "execution_count": 15,
     "metadata": {},
     "output_type": "execute_result"
    }
   ],
   "source": [
    "# Где-то ошибка\n",
    "n = 1000\n",
    "l = round(n**(1/3))\n",
    "n_3 = 8\n",
    "n_2 = (l * 12) - n_3\n",
    "n_1 = (6 * l**2) - n_2 - n_3\n",
    "n_1 / n, n_2 / n, n_3 / n"
   ]
  },
  {
   "cell_type": "markdown",
   "id": "cc0e1d3b-f37d-46c7-9cc9-1946429610b3",
   "metadata": {},
   "source": [
    "Из тщательно перемешаного набора 28 костей домино наудачу извлечена кость. Найти вероятность того, что вторую наудачу извлеченную кость можно приставить к первой. Если первая кость:\n",
    "\n",
    "а) оказалась дублем\n",
    "\n",
    "б) не оказалась дублем"
   ]
  },
  {
   "cell_type": "markdown",
   "id": "19179943-ce5d-4d77-bf6b-7b1f1727171e",
   "metadata": {},
   "source": [
    "## Теорема сложения вероятностей"
   ]
  },
  {
   "cell_type": "markdown",
   "id": "a7dc9143-b20e-4389-ba83-34cdfcee067c",
   "metadata": {},
   "source": [
    "В денежно-вещевой лотерее на каждые 10000 билетов разыгрывается 150 вещевых и 50 денежных выйгрышей. Чему равна вероятность выйгрыша, безразлично денедного или вещевого, для владельца одного лотерейного билета"
   ]
  },
  {
   "cell_type": "code",
   "execution_count": 16,
   "id": "3f5f9c5d-b441-43d2-af87-671ca1489e0c",
   "metadata": {},
   "outputs": [
    {
     "data": {
      "text/plain": [
       "(0.02, 0.015, 0.005)"
      ]
     },
     "execution_count": 16,
     "metadata": {},
     "output_type": "execute_result"
    }
   ],
   "source": [
    "n = 10000\n",
    "n_1 = 150\n",
    "n_2 = 50\n",
    "p_n_1 = n_1/n\n",
    "p_n_2 = n_2/n\n",
    "p = p_n_1 + p_n_2\n",
    "p, p_n_1, p_n_2"
   ]
  },
  {
   "cell_type": "markdown",
   "id": "3babf0a4-f6da-435e-ad4b-0d5ca4305673",
   "metadata": {},
   "source": [
    "Вероятность того, что стрелок при одном выстреле выбьет 10 очков, равна 0.1; вероятность выбить 9 очков равна 0.3; вероятность выбить 8 или меньше очков равна 0.6. Найти вероятность того, что при одном выстреле стрелок выбьет не менее 9 очков."
   ]
  },
  {
   "cell_type": "code",
   "execution_count": 17,
   "id": "a7caafd2-5078-4371-b427-1404ae207d95",
   "metadata": {},
   "outputs": [
    {
     "data": {
      "text/plain": [
       "0.4"
      ]
     },
     "execution_count": 17,
     "metadata": {},
     "output_type": "execute_result"
    }
   ],
   "source": [
    "0.1 + 0.3"
   ]
  },
  {
   "cell_type": "markdown",
   "id": "7d3e567a-7813-4940-9e20-07e64bc0a771",
   "metadata": {},
   "source": [
    "По статистистическим данным ремонтной мастерской, в среднем на 20 остановок токарного станка приходится: 10 - для смены резца; 3 из-за неисправности привода; 2 - из-за неисправности подачи заготовок. Остальные остановки происходят по другим причинам. Найти вероятность остановки станка по другим причинам."
   ]
  },
  {
   "cell_type": "code",
   "execution_count": 18,
   "id": "235049ec-30e1-4bea-ad2e-c673c647cef7",
   "metadata": {},
   "outputs": [
    {
     "data": {
      "text/plain": [
       "0.25"
      ]
     },
     "execution_count": 18,
     "metadata": {},
     "output_type": "execute_result"
    }
   ],
   "source": [
    "1 - ((10 + 3 + 2)/20)"
   ]
  },
  {
   "cell_type": "markdown",
   "id": "367d4015-69b2-4678-ab4b-ca531449a1a9",
   "metadata": {},
   "source": [
    "## Теорема умножения вероятностей"
   ]
  },
  {
   "cell_type": "code",
   "execution_count": 19,
   "id": "68d83e80-e942-4944-9435-6fb4912d6e07",
   "metadata": {},
   "outputs": [
    {
     "data": {
      "text/plain": [
       "0.729"
      ]
     },
     "execution_count": 19,
     "metadata": {},
     "output_type": "execute_result"
    }
   ],
   "source": [
    "round(0.9**3, 3)"
   ]
  },
  {
   "cell_type": "code",
   "execution_count": 20,
   "id": "5b185f71-6c11-42e2-95fa-b1af49477532",
   "metadata": {},
   "outputs": [
    {
     "data": {
      "text/plain": [
       "0.08333333333333333"
      ]
     },
     "execution_count": 20,
     "metadata": {},
     "output_type": "execute_result"
    }
   ],
   "source": [
    "(1/6) * (1/2)"
   ]
  },
  {
   "cell_type": "markdown",
   "id": "c6c48c4a-6f61-4df6-85f8-30a4be0385ec",
   "metadata": {},
   "source": [
    "Вероятность поражения цели первым стрелком при одном выстреле равна 0.8 а торым стрелком 0.6. Найти вероятность того, что цель будет поражена только одним стрелком."
   ]
  },
  {
   "cell_type": "code",
   "execution_count": 21,
   "id": "507cdb00-6e01-4d10-b58c-a64a9a56c757",
   "metadata": {},
   "outputs": [
    {
     "data": {
      "text/plain": [
       "0.48"
      ]
     },
     "execution_count": 21,
     "metadata": {},
     "output_type": "execute_result"
    }
   ],
   "source": [
    "0.8 * 0.6"
   ]
  },
  {
   "cell_type": "markdown",
   "id": "430a44db-6598-4016-ade5-1879e349bc47",
   "metadata": {},
   "source": [
    "ст. 48"
   ]
  }
 ],
 "metadata": {
  "kernelspec": {
   "display_name": "Python 3",
   "language": "python",
   "name": "python3"
  },
  "language_info": {
   "codemirror_mode": {
    "name": "ipython",
    "version": 3
   },
   "file_extension": ".py",
   "mimetype": "text/x-python",
   "name": "python",
   "nbconvert_exporter": "python",
   "pygments_lexer": "ipython3",
   "version": "3.9.5"
  }
 },
 "nbformat": 4,
 "nbformat_minor": 5
}
