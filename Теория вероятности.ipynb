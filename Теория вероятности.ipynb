{
 "cells": [
  {
   "cell_type": "code",
   "execution_count": 20,
   "id": "4182b552-c31d-4b49-8acd-bf5c967d6352",
   "metadata": {},
   "outputs": [],
   "source": [
    "import math"
   ]
  },
  {
   "cell_type": "markdown",
   "id": "bbed7adf-7589-45d2-82b2-9b0fdb3a1e4d",
   "metadata": {},
   "source": [
    "## Размещения"
   ]
  },
  {
   "cell_type": "markdown",
   "id": "b599ab37-15ef-43f2-b155-d5cb073e53d5",
   "metadata": {},
   "source": [
    "Сколько можнос составить комбинаций из 6-ти флажков всятых по 2\n",
    "\n",
    "$A_n^m = \\frac{n!}{(n-m+1)!}$"
   ]
  },
  {
   "cell_type": "code",
   "execution_count": 51,
   "id": "e6fbbccf-470e-4c69-82b9-747f0bab5873",
   "metadata": {},
   "outputs": [],
   "source": [
    "def A_razm(n, m):\n",
    "    return math.factorial(n) / math.factorial(n - m)"
   ]
  },
  {
   "cell_type": "code",
   "execution_count": 60,
   "id": "17f7c535-f8a0-4df6-bb74-f03cfded4fb6",
   "metadata": {},
   "outputs": [
    {
     "data": {
      "text/plain": [
       "90"
      ]
     },
     "execution_count": 60,
     "metadata": {},
     "output_type": "execute_result"
    }
   ],
   "source": [
    "n = 10\n",
    "m = 2\n",
    "n * (n - m + 1)"
   ]
  },
  {
   "cell_type": "markdown",
   "id": "4ad24eb6-13ef-48a2-a126-4a4fc4ad3b6b",
   "metadata": {},
   "source": [
    "## Сочетания"
   ]
  },
  {
   "cell_type": "markdown",
   "id": "02a88fb7-4084-409b-8e4b-9d9e84f5d025",
   "metadata": {},
   "source": [
    "Сколькими способами можно выбрать 2 детали из ящика содержащего 10 деталей\n",
    "\n",
    "$C_n^m = \\frac{n!}{(m!(n-m)!)}$"
   ]
  },
  {
   "cell_type": "code",
   "execution_count": 61,
   "id": "dd322e0f-112d-4746-bf43-954ef81a96d7",
   "metadata": {},
   "outputs": [],
   "source": [
    "def C_soch(n, m):\n",
    "    return math.factorial(n) / \\\n",
    "            (math.factorial(m) * math.factorial(n - m))"
   ]
  },
  {
   "cell_type": "code",
   "execution_count": 62,
   "id": "29d3a634-3c99-4123-b942-2f79938fa73b",
   "metadata": {},
   "outputs": [
    {
     "data": {
      "text/plain": [
       "45.0"
      ]
     },
     "execution_count": 62,
     "metadata": {},
     "output_type": "execute_result"
    }
   ],
   "source": [
    "n = 10\n",
    "m = 2\n",
    "math.factorial(n) / (math.factorial(m) * math.factorial(n - m))"
   ]
  },
  {
   "cell_type": "markdown",
   "id": "48b3dd12-387d-4bb4-b667-2478334825b0",
   "metadata": {},
   "source": [
    "## Задачи к главе 1"
   ]
  },
  {
   "cell_type": "markdown",
   "id": "ed5bad67-4938-48bd-9ecb-0a295ae36561",
   "metadata": {},
   "source": [
    "В ящике имеются 50 одинаковых деталей, из них 5 окрашены. Наудачу вынимают одну деталь. Найти вероятность того, что извленная деталь окажется окрашенной."
   ]
  },
  {
   "cell_type": "code",
   "execution_count": 1,
   "id": "d1caa947-5b5e-461d-aea6-fee0247efe9a",
   "metadata": {},
   "outputs": [
    {
     "data": {
      "text/plain": [
       "0.1"
      ]
     },
     "execution_count": 1,
     "metadata": {},
     "output_type": "execute_result"
    }
   ],
   "source": [
    "5/50"
   ]
  },
  {
   "cell_type": "markdown",
   "id": "7f0a7f01-9e4d-42ca-b56a-0519442f4ea9",
   "metadata": {},
   "source": [
    "Брошена игральная кость. Найти вероятность того, что выпадет четное число очков"
   ]
  },
  {
   "cell_type": "code",
   "execution_count": 3,
   "id": "8fb51867-5239-43b0-be99-1a9ac25d5e7a",
   "metadata": {},
   "outputs": [
    {
     "data": {
      "text/plain": [
       "0.5"
      ]
     },
     "execution_count": 3,
     "metadata": {},
     "output_type": "execute_result"
    }
   ],
   "source": [
    "3/6"
   ]
  },
  {
   "cell_type": "code",
   "execution_count": 12,
   "id": "efdd5f25-a681-42dc-824a-10b6d8d8a71a",
   "metadata": {},
   "outputs": [
    {
     "data": {
      "text/plain": [
       "0.81"
      ]
     },
     "execution_count": 12,
     "metadata": {},
     "output_type": "execute_result"
    }
   ],
   "source": [
    "n = 0\n",
    "num_list = [str(i) for i in range(1,101)]\n",
    "for i in num_list:\n",
    "    if '5' in i: n += 1\n",
    "1 - n / len(num_list)"
   ]
  },
  {
   "cell_type": "markdown",
   "id": "fe9c7d81-bbff-41fb-ab81-94872d8dca8c",
   "metadata": {},
   "source": [
    "В мешочке имеются 5 одинаковых кубиков. На всех гранях каждого кубика написана одна из следущих букв: **о, п, р, с, т**. Найти вероятность того, что на вынутых по одному и расположенных \"в одну линию\" кубиках можно будет прочесть слово \"спорт\" "
   ]
  },
  {
   "cell_type": "code",
   "execution_count": 31,
   "id": "3ec02b77-28d4-4ff8-935e-508795c681d4",
   "metadata": {},
   "outputs": [
    {
     "data": {
      "text/plain": [
       "0.008333333333333333"
      ]
     },
     "execution_count": 31,
     "metadata": {},
     "output_type": "execute_result"
    }
   ],
   "source": [
    "n = 5\n",
    "m = 5\n",
    "1 / math.factorial(n)"
   ]
  },
  {
   "cell_type": "markdown",
   "id": "7e792e3f-6d84-4913-81d7-e2f173c9eb19",
   "metadata": {},
   "source": [
    "На каждой из шести одинаковых карточек напечатана одна из следующих букв **а, т м, р, с, о**. Карточки тчательно перемешаны. Найти вероятность того, что на четырех, вынутых по одной и расположенных в одну линию карточках можно будет прочесть слово \"трос\""
   ]
  },
  {
   "cell_type": "code",
   "execution_count": 57,
   "id": "6a14bb5f-996b-46d8-9149-af74d082caa0",
   "metadata": {},
   "outputs": [
    {
     "data": {
      "text/plain": [
       "0.002777777777777778"
      ]
     },
     "execution_count": 57,
     "metadata": {},
     "output_type": "execute_result"
    }
   ],
   "source": [
    "n = 6\n",
    "m = 4\n",
    "# n * (n - m + 1)\n",
    "1 / A_razm(n, m)"
   ]
  },
  {
   "cell_type": "markdown",
   "id": "2e50e037-a431-476c-8b46-6d6017185f59",
   "metadata": {},
   "source": [
    "Куб, все грани которого окрашены, распилили на тысячу кубиков одинакого размера, которые затем тщательно перемешаны. Найти веротность того, что наудачу извлеченный кубик будет иметь окрашенных граней а) 1; б) 2; в) 3;"
   ]
  },
  {
   "cell_type": "code",
   "execution_count": 80,
   "id": "7fb6c8c3-3783-4123-9b05-36065b031bd4",
   "metadata": {},
   "outputs": [
    {
     "data": {
      "text/plain": [
       "(0.48, 0.112, 0.008)"
      ]
     },
     "execution_count": 80,
     "metadata": {},
     "output_type": "execute_result"
    }
   ],
   "source": [
    "# Где-то ошибка\n",
    "n = 1000\n",
    "l = round(n**(1/3))\n",
    "n_3 = 8\n",
    "n_2 = (l * 12) - n_3\n",
    "n_1 = (6 * l**2) - n_2 - n_3\n",
    "n_1 / n, n_2 / n, n_3 / n"
   ]
  },
  {
   "cell_type": "markdown",
   "id": "cc0e1d3b-f37d-46c7-9cc9-1946429610b3",
   "metadata": {},
   "source": [
    "Из тщательно перемешаного набора 28 костей домино наудачу извлечена кость. Найти вероятность того, что вторую наудачу извлеченную кость можно приставить к первой. Если первая кость:\n",
    "\n",
    "а) оказалась дублем\n",
    "\n",
    "б) не оказалась дублем"
   ]
  },
  {
   "cell_type": "code",
   "execution_count": null,
   "id": "dc9399b3-19de-4a93-a512-7511767cdfb2",
   "metadata": {},
   "outputs": [],
   "source": []
  }
 ],
 "metadata": {
  "kernelspec": {
   "display_name": "Python 3",
   "language": "python",
   "name": "python3"
  },
  "language_info": {
   "codemirror_mode": {
    "name": "ipython",
    "version": 3
   },
   "file_extension": ".py",
   "mimetype": "text/x-python",
   "name": "python",
   "nbconvert_exporter": "python",
   "pygments_lexer": "ipython3",
   "version": "3.9.5"
  }
 },
 "nbformat": 4,
 "nbformat_minor": 5
}
