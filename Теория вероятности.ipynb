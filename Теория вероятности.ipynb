{
 "cells": [
  {
   "cell_type": "code",
   "execution_count": 1,
   "metadata": {},
   "outputs": [],
   "source": [
    "import math\n",
    "from fractions import Fraction\n",
    "import pandas as pd"
   ]
  },
  {
   "cell_type": "markdown",
   "metadata": {},
   "source": [
    "## Формула Бейса\n",
    "\n",
    "Переоценка вероятности\n",
    "\n",
    "<font size=4>\n",
    "$P_A(B_i) = \\frac{P(B_i)P_Bi(A)}{P(B_1)P_B1(A)+P(B_2)P_B2(A)+...+P(B_n)P_Bn(A)}$\n",
    "</ font>"
   ]
  },
  {
   "cell_type": "markdown",
   "metadata": {},
   "source": [
    "Пример задачи\n",
    "\n",
    "Перед нами две урны, в каждой по десять шаров, но известно, что в одной три черных, а в другой — шесть. Кто-то взял из одной из урн шар, и шар оказался черным. Насколько вероятно, что шар брали из первой урны?"
   ]
  },
  {
   "cell_type": "code",
   "execution_count": 17,
   "metadata": {},
   "outputs": [],
   "source": [
    "def Beis(n1, n2, n1_b, n2_b):\n",
    "    P = ((n1_b / n1) * (n1 / sum([n1,n2]))) / (((n1_b / n1) * (n1 / sum([n1,n2]))) + ((n2_b / n2) * (n2 / sum([n1,n2]))))\n",
    "    return P"
   ]
  },
  {
   "cell_type": "markdown",
   "metadata": {},
   "source": [
    "Парадокс Монти Холла"
   ]
  },
  {
   "cell_type": "code",
   "execution_count": 18,
   "metadata": {},
   "outputs": [
    {
     "data": {
      "text/plain": [
       "0.3333333333333333"
      ]
     },
     "execution_count": 18,
     "metadata": {},
     "output_type": "execute_result"
    }
   ],
   "source": [
    "Beis(3, 3, 1, 2)"
   ]
  },
  {
   "cell_type": "code",
   "execution_count": null,
   "metadata": {},
   "outputs": [],
   "source": [
    "Beis(3, 3, 1, 2)"
   ]
  },
  {
   "cell_type": "code",
   "execution_count": 16,
   "metadata": {},
   "outputs": [
    {
     "data": {
      "text/plain": [
       "33.33"
      ]
     },
     "execution_count": 16,
     "metadata": {},
     "output_type": "execute_result"
    }
   ],
   "source": [
    "n1 = n2 = 10\n",
    "n1_b = 3\n",
    "n2_b = 6\n",
    "P1 = ((n1_b / n1) * (n1 / sum([n1,n2]))) / (((n1_b / n1) * (n1 / sum([n1,n2]))) + ((n2_b / n2) * (n2 / sum([n1,n2]))))\n",
    "round(P1 * 100, 2)"
   ]
  },
  {
   "cell_type": "markdown",
   "metadata": {},
   "source": [
    "## Размещения"
   ]
  },
  {
   "cell_type": "markdown",
   "metadata": {},
   "source": [
    "Сколько можнос составить комбинаций из 6-ти флажков всятых по 2\n",
    "\n",
    "$A_n^m = \\frac{n!}{(n-m+1)!}$"
   ]
  },
  {
   "cell_type": "code",
   "execution_count": 2,
   "metadata": {},
   "outputs": [],
   "source": [
    "def A_razm(n, m):\n",
    "    return math.factorial(n) / math.factorial(n - m)"
   ]
  },
  {
   "cell_type": "code",
   "execution_count": 3,
   "metadata": {},
   "outputs": [
    {
     "data": {
      "text/plain": [
       "90"
      ]
     },
     "execution_count": 3,
     "metadata": {},
     "output_type": "execute_result"
    }
   ],
   "source": [
    "n = 10\n",
    "m = 2\n",
    "n * (n - m + 1)"
   ]
  },
  {
   "cell_type": "markdown",
   "metadata": {},
   "source": [
    "## Сочетания"
   ]
  },
  {
   "cell_type": "markdown",
   "metadata": {},
   "source": [
    "Сколькими способами можно выбрать 2 детали из ящика содержащего 10 деталей\n",
    "\n",
    "$C_n^m = \\frac{n!}{(m!(n-m)!)}$"
   ]
  },
  {
   "cell_type": "code",
   "execution_count": 7,
   "metadata": {},
   "outputs": [],
   "source": [
    "def C_soch(n, m):\n",
    "    return math.factorial(n) / \\\n",
    "            (math.factorial(m) * math.factorial(n - m))"
   ]
  },
  {
   "cell_type": "code",
   "execution_count": 8,
   "metadata": {},
   "outputs": [
    {
     "data": {
      "text/plain": [
       "45.0"
      ]
     },
     "execution_count": 8,
     "metadata": {},
     "output_type": "execute_result"
    }
   ],
   "source": [
    "n = 10\n",
    "m = 2\n",
    "math.factorial(n) / (math.factorial(m) * math.factorial(n - m))"
   ]
  },
  {
   "cell_type": "markdown",
   "metadata": {},
   "source": [
    "## Формула бернули\n",
    "Pn(k)=Crnpkqn−k \n",
    "или\n",
    "\n",
    "Pn(k)=n!K!(n−k)!pkqn−k"
   ]
  },
  {
   "cell_type": "code",
   "execution_count": 6,
   "metadata": {},
   "outputs": [],
   "source": [
    "def p_bern(n, k, p):\n",
    "    q = 1 - p\n",
    "    return (math.factorial(n) / (math.factorial(k) \\\n",
    "            * math.factorial(n - k))) * (p**k) * (q**(n-k))"
   ]
  },
  {
   "cell_type": "markdown",
   "metadata": {},
   "source": [
    "Вероятность того, что расход электроэнергии в продолжении одних суток не привысит установленной нормы, равна 0,75. Найти вероятность того, что в ближайшие 6 суток расход электроэнергии в течении 4 суток не привысит нормы.\n",
    "\n",
    "0,3"
   ]
  },
  {
   "cell_type": "code",
   "execution_count": 7,
   "metadata": {},
   "outputs": [
    {
     "data": {
      "text/plain": [
       "0.296630859375"
      ]
     },
     "execution_count": 7,
     "metadata": {},
     "output_type": "execute_result"
    }
   ],
   "source": [
    "p_bern(6, 4, 0.75)"
   ]
  },
  {
   "cell_type": "markdown",
   "metadata": {},
   "source": [
    "## Формула Лапласса\n",
    "Pn(k)=1npq√∗ϕ(x) \n",
    "где:\n",
    "\n",
    "x=k−npnpq√"
   ]
  },
  {
   "cell_type": "code",
   "execution_count": 8,
   "metadata": {},
   "outputs": [],
   "source": [
    "def p_lapl(n, k, p):\n",
    "    q = 1 - p\n",
    "    x = (k - n * p) / (n * p * q)**(1/2)\n",
    "    f_x = (1 /((2 * math.pi)**(1/2))) * math.e ** (-1 * x**3 / 2)\n",
    "    return (1 / (n * p * q)**(1/2) ) *  f_x"
   ]
  },
  {
   "cell_type": "markdown",
   "metadata": {},
   "source": [
    "Найти вероятность того, что событие А наступит ровно 80 раз в 400 испытаниях, если вероятность появления этого события в каждом испытании равна 0,2"
   ]
  },
  {
   "cell_type": "code",
   "execution_count": 9,
   "metadata": {},
   "outputs": [
    {
     "data": {
      "text/plain": [
       "0.04981327224985552"
      ]
     },
     "execution_count": 9,
     "metadata": {},
     "output_type": "execute_result"
    }
   ],
   "source": [
    "p_bern(400, 80, 0.2)"
   ]
  },
  {
   "cell_type": "code",
   "execution_count": 10,
   "metadata": {},
   "outputs": [
    {
     "data": {
      "text/plain": [
       "0.04986778505017909"
      ]
     },
     "execution_count": 10,
     "metadata": {},
     "output_type": "execute_result"
    }
   ],
   "source": [
    "p_lapl(400, 80, 0.2)"
   ]
  },
  {
   "cell_type": "markdown",
   "metadata": {},
   "source": [
    "Завод отправил на базу 5000 доброкачественных изделий. Вероятность того, что в пути изделия повредятся, равно 0,0002. Найти вероятность того, что на базу прибудут 3 негодных изделия."
   ]
  },
  {
   "cell_type": "code",
   "execution_count": 11,
   "metadata": {},
   "outputs": [
    {
     "data": {
      "text/plain": [
       "0.06130710590696731"
      ]
     },
     "execution_count": 11,
     "metadata": {},
     "output_type": "execute_result"
    }
   ],
   "source": [
    "p_bern(5000, 3, 0.0002)"
   ]
  },
  {
   "cell_type": "markdown",
   "metadata": {},
   "source": [
    "## Формула Пуассона¶\n",
    "Pt(k)=(λt)k∗e−λtk!"
   ]
  },
  {
   "cell_type": "code",
   "execution_count": 12,
   "metadata": {},
   "outputs": [],
   "source": [
    "def p_puans(lam, t, k, param = '='):\n",
    "    if param == '=':\n",
    "        p = (((lam * t)**k) * math.e**(-1 * lam * t)) / math.factorial(k)\n",
    "        return round(p, 6)\n",
    "    elif param == '<':\n",
    "        k -= 1\n",
    "        p = 0\n",
    "        for k in range(0,k):\n",
    "            p += (((lam * t)**k) * math.e**(-1 * lam * t)) / math.factorial(k)\n",
    "        return round(p, 6)\n",
    "    elif param == '>':\n",
    "        return 1 - (((lam * t)**k) * math.e**(-1 * lam * t)) / math.factorial(k)\n",
    "    return ''"
   ]
  },
  {
   "cell_type": "markdown",
   "metadata": {},
   "source": [
    "Среднее число вызовов, поступающих на АТС в одну минуту, равно двум. Найти вероятность того, что за 5 минут поступит:\n",
    "\n",
    "    а) 2 вызова\n",
    "    б) меньше двух вызовов\n",
    "    в) не менее двух вызовов\n",
    "\n",
    "Поток вызовов предполагается простейшим"
   ]
  },
  {
   "cell_type": "code",
   "execution_count": 13,
   "metadata": {},
   "outputs": [
    {
     "name": "stdout",
     "output_type": "stream",
     "text": [
      "0.00227\n",
      "4.5e-05\n",
      "0.9995460007023752\n"
     ]
    }
   ],
   "source": [
    "print(p_puans(2, 5, 2))\n",
    "print(p_puans(2, 5, 2, '<'))\n",
    "print(p_puans(2, 5, 1, '>'))"
   ]
  },
  {
   "cell_type": "markdown",
   "metadata": {},
   "source": [
    "## Геометрическое распределение\n",
    "P(X=k)=qk−1p"
   ]
  },
  {
   "cell_type": "code",
   "execution_count": 14,
   "metadata": {},
   "outputs": [],
   "source": [
    "def geo_raspr(p, k):\n",
    "    q = 1 -p\n",
    "    return (q**(k-1)) * p"
   ]
  },
  {
   "cell_type": "markdown",
   "metadata": {},
   "source": [
    "Из орудия производится стрельба по цели до первого попадания в цель. Вероятность попадания 0,6. Найти вероятность того, что попадание произойдет при третьем выстреле.\n",
    "\n",
    "0,096"
   ]
  },
  {
   "cell_type": "code",
   "execution_count": 15,
   "metadata": {},
   "outputs": [
    {
     "data": {
      "text/plain": [
       "0.09600000000000002"
      ]
     },
     "execution_count": 15,
     "metadata": {},
     "output_type": "execute_result"
    }
   ],
   "source": [
    "geo_raspr(0.6, 3)"
   ]
  },
  {
   "cell_type": "markdown",
   "metadata": {},
   "source": [
    "## Задачи к главе 1"
   ]
  },
  {
   "cell_type": "markdown",
   "metadata": {},
   "source": [
    "В ящике имеются 50 одинаковых деталей, из них 5 окрашены. Наудачу вынимают одну деталь. Найти вероятность того, что извленная деталь окажется окрашенной."
   ]
  },
  {
   "cell_type": "code",
   "execution_count": 16,
   "metadata": {},
   "outputs": [
    {
     "data": {
      "text/plain": [
       "0.1"
      ]
     },
     "execution_count": 16,
     "metadata": {},
     "output_type": "execute_result"
    }
   ],
   "source": [
    "5/50"
   ]
  },
  {
   "cell_type": "markdown",
   "metadata": {},
   "source": [
    "Брошена игральная кость. Найти вероятность того, что выпадет четное число очков"
   ]
  },
  {
   "cell_type": "code",
   "execution_count": 17,
   "metadata": {},
   "outputs": [
    {
     "data": {
      "text/plain": [
       "0.5"
      ]
     },
     "execution_count": 17,
     "metadata": {},
     "output_type": "execute_result"
    }
   ],
   "source": [
    "3/6"
   ]
  },
  {
   "cell_type": "code",
   "execution_count": 18,
   "metadata": {},
   "outputs": [
    {
     "data": {
      "text/plain": [
       "0.81"
      ]
     },
     "execution_count": 18,
     "metadata": {},
     "output_type": "execute_result"
    }
   ],
   "source": [
    "n = 0\n",
    "num_list = [str(i) for i in range(1,101)]\n",
    "for i in num_list:\n",
    "    if '5' in i: n += 1\n",
    "1 - n / len(num_list)"
   ]
  },
  {
   "cell_type": "markdown",
   "metadata": {},
   "source": [
    "В мешочке имеются 5 одинаковых кубиков. На всех гранях каждого кубика написана одна из следущих букв: **о, п, р, с, т**. Найти вероятность того, что на вынутых по одному и расположенных \"в одну линию\" кубиках можно будет прочесть слово \"спорт\" "
   ]
  },
  {
   "cell_type": "code",
   "execution_count": 19,
   "metadata": {},
   "outputs": [
    {
     "data": {
      "text/plain": [
       "0.008333333333333333"
      ]
     },
     "execution_count": 19,
     "metadata": {},
     "output_type": "execute_result"
    }
   ],
   "source": [
    "n = 5\n",
    "m = 5\n",
    "1 / math.factorial(n)"
   ]
  },
  {
   "cell_type": "markdown",
   "metadata": {},
   "source": [
    "На каждой из шести одинаковых карточек напечатана одна из следующих букв **а, т м, р, с, о**. Карточки тчательно перемешаны. Найти вероятность того, что на четырех, вынутых по одной и расположенных в одну линию карточках можно будет прочесть слово \"трос\""
   ]
  },
  {
   "cell_type": "code",
   "execution_count": 20,
   "metadata": {},
   "outputs": [
    {
     "data": {
      "text/plain": [
       "0.002777777777777778"
      ]
     },
     "execution_count": 20,
     "metadata": {},
     "output_type": "execute_result"
    }
   ],
   "source": [
    "n = 6\n",
    "m = 4\n",
    "# n * (n - m + 1)\n",
    "1 / A_razm(n, m)"
   ]
  },
  {
   "cell_type": "markdown",
   "metadata": {},
   "source": [
    "Куб, все грани которого окрашены, распилили на тысячу кубиков одинакого размера, которые затем тщательно перемешаны. Найти веротность того, что наудачу извлеченный кубик будет иметь окрашенных граней а) 1; б) 2; в) 3;"
   ]
  },
  {
   "cell_type": "code",
   "execution_count": 21,
   "metadata": {},
   "outputs": [
    {
     "data": {
      "text/plain": [
       "(0.48, 0.112, 0.008)"
      ]
     },
     "execution_count": 21,
     "metadata": {},
     "output_type": "execute_result"
    }
   ],
   "source": [
    "# Где-то ошибка\n",
    "n = 1000\n",
    "l = round(n**(1/3))\n",
    "n_3 = 8\n",
    "n_2 = (l * 12) - n_3\n",
    "n_1 = (6 * l**2) - n_2 - n_3\n",
    "n_1 / n, n_2 / n, n_3 / n"
   ]
  },
  {
   "cell_type": "markdown",
   "metadata": {},
   "source": [
    "Из тщательно перемешаного набора 28 костей домино наудачу извлечена кость. Найти вероятность того, что вторую наудачу извлеченную кость можно приставить к первой. Если первая кость:\n",
    "\n",
    "а) оказалась дублем\n",
    "\n",
    "б) не оказалась дублем"
   ]
  },
  {
   "cell_type": "markdown",
   "metadata": {},
   "source": [
    "## Теорема сложения вероятностей"
   ]
  },
  {
   "cell_type": "markdown",
   "metadata": {},
   "source": [
    "В денежно-вещевой лотерее на каждые 10000 билетов разыгрывается 150 вещевых и 50 денежных выйгрышей. Чему равна вероятность выйгрыша, безразлично денедного или вещевого, для владельца одного лотерейного билета"
   ]
  },
  {
   "cell_type": "code",
   "execution_count": 22,
   "metadata": {},
   "outputs": [
    {
     "data": {
      "text/plain": [
       "(0.02, 0.015, 0.005)"
      ]
     },
     "execution_count": 22,
     "metadata": {},
     "output_type": "execute_result"
    }
   ],
   "source": [
    "n = 10000\n",
    "n_1 = 150\n",
    "n_2 = 50\n",
    "p_n_1 = n_1/n\n",
    "p_n_2 = n_2/n\n",
    "p = p_n_1 + p_n_2\n",
    "p, p_n_1, p_n_2"
   ]
  },
  {
   "cell_type": "markdown",
   "metadata": {},
   "source": [
    "Вероятность того, что стрелок при одном выстреле выбьет 10 очков, равна 0.1; вероятность выбить 9 очков равна 0.3; вероятность выбить 8 или меньше очков равна 0.6. Найти вероятность того, что при одном выстреле стрелок выбьет не менее 9 очков."
   ]
  },
  {
   "cell_type": "code",
   "execution_count": 23,
   "metadata": {},
   "outputs": [
    {
     "data": {
      "text/plain": [
       "0.4"
      ]
     },
     "execution_count": 23,
     "metadata": {},
     "output_type": "execute_result"
    }
   ],
   "source": [
    "0.1 + 0.3"
   ]
  },
  {
   "cell_type": "markdown",
   "metadata": {},
   "source": [
    "По статистистическим данным ремонтной мастерской, в среднем на 20 остановок токарного станка приходится: 10 - для смены резца; 3 из-за неисправности привода; 2 - из-за неисправности подачи заготовок. Остальные остановки происходят по другим причинам. Найти вероятность остановки станка по другим причинам."
   ]
  },
  {
   "cell_type": "code",
   "execution_count": 24,
   "metadata": {},
   "outputs": [
    {
     "data": {
      "text/plain": [
       "0.25"
      ]
     },
     "execution_count": 24,
     "metadata": {},
     "output_type": "execute_result"
    }
   ],
   "source": [
    "1 - ((10 + 3 + 2)/20)"
   ]
  },
  {
   "cell_type": "markdown",
   "metadata": {},
   "source": [
    "## Теорема умножения вероятностей"
   ]
  },
  {
   "cell_type": "code",
   "execution_count": 25,
   "metadata": {},
   "outputs": [
    {
     "data": {
      "text/plain": [
       "0.729"
      ]
     },
     "execution_count": 25,
     "metadata": {},
     "output_type": "execute_result"
    }
   ],
   "source": [
    "round(0.9**3, 3)"
   ]
  },
  {
   "cell_type": "code",
   "execution_count": 26,
   "metadata": {},
   "outputs": [
    {
     "data": {
      "text/plain": [
       "0.08333333333333333"
      ]
     },
     "execution_count": 26,
     "metadata": {},
     "output_type": "execute_result"
    }
   ],
   "source": [
    "(1/6) * (1/2)"
   ]
  },
  {
   "cell_type": "markdown",
   "metadata": {},
   "source": [
    "Вероятность поражения цели первым стрелком при одном выстреле равна 0.8 а торым стрелком 0.6. Найти вероятность того, что цель будет поражена только одним стрелком."
   ]
  },
  {
   "cell_type": "code",
   "execution_count": 27,
   "metadata": {},
   "outputs": [
    {
     "data": {
      "text/plain": [
       "0.48"
      ]
     },
     "execution_count": 27,
     "metadata": {},
     "output_type": "execute_result"
    }
   ],
   "source": [
    "0.8 * 0.6"
   ]
  },
  {
   "cell_type": "code",
   "execution_count": 28,
   "metadata": {},
   "outputs": [],
   "source": [
    "E_x =90\n",
    "E_y = 10\n",
    "var_x = 4\n",
    "var_y = 6\n",
    "cov_xy = 8"
   ]
  },
  {
   "cell_type": "code",
   "execution_count": null,
   "metadata": {},
   "outputs": [],
   "source": []
  },
  {
   "cell_type": "code",
   "execution_count": 29,
   "metadata": {},
   "outputs": [
    {
     "data": {
      "text/html": [
       "<div>\n",
       "<style scoped>\n",
       "    .dataframe tbody tr th:only-of-type {\n",
       "        vertical-align: middle;\n",
       "    }\n",
       "\n",
       "    .dataframe tbody tr th {\n",
       "        vertical-align: top;\n",
       "    }\n",
       "\n",
       "    .dataframe thead th {\n",
       "        text-align: right;\n",
       "    }\n",
       "</style>\n",
       "<table border=\"1\" class=\"dataframe\">\n",
       "  <thead>\n",
       "    <tr style=\"text-align: right;\">\n",
       "      <th></th>\n",
       "      <th>a</th>\n",
       "      <th>b</th>\n",
       "      <th>c</th>\n",
       "    </tr>\n",
       "  </thead>\n",
       "  <tbody>\n",
       "    <tr>\n",
       "      <th>b</th>\n",
       "      <td>0.2</td>\n",
       "      <td>0.1</td>\n",
       "      <td>0.2</td>\n",
       "    </tr>\n",
       "    <tr>\n",
       "      <th>e</th>\n",
       "      <td>0.1</td>\n",
       "      <td>0.3</td>\n",
       "      <td>0.1</td>\n",
       "    </tr>\n",
       "  </tbody>\n",
       "</table>\n",
       "</div>"
      ],
      "text/plain": [
       "     a    b    c\n",
       "b  0.2  0.1  0.2\n",
       "e  0.1  0.3  0.1"
      ]
     },
     "execution_count": 29,
     "metadata": {},
     "output_type": "execute_result"
    }
   ],
   "source": [
    "pd.DataFrame([[0.2,0.1,0.2], [0.1,0.3,0.1]], \n",
    "             index = ['b', 'e'], columns = ['a', 'b', 'c'])"
   ]
  },
  {
   "cell_type": "markdown",
   "metadata": {},
   "source": [
    "Бросают пять игральных костей.\n",
    "Чему равна вероятность того, что из пяти выпавших цифр две – четные, а три – нечетные?\n",
    "\n",
    "Введите ответ ниже в виде десятичной дроби (допускается максимально 4 знака после запятой)"
   ]
  },
  {
   "cell_type": "code",
   "execution_count": 30,
   "metadata": {},
   "outputs": [
    {
     "data": {
      "text/plain": [
       "0.1"
      ]
     },
     "execution_count": 30,
     "metadata": {},
     "output_type": "execute_result"
    }
   ],
   "source": [
    "n = 5\n",
    "m= 2\n",
    "p = 0.5\n",
    "1 / C_soch(n, m)"
   ]
  },
  {
   "cell_type": "code",
   "execution_count": 31,
   "metadata": {},
   "outputs": [],
   "source": [
    "n1 = 10\n",
    "pn1= 0.9\n",
    "n2= 100\n",
    "pn2 = 0.1"
   ]
  },
  {
   "cell_type": "code",
   "execution_count": 32,
   "metadata": {},
   "outputs": [
    {
     "data": {
      "text/plain": [
       "(10.0, 9.0)"
      ]
     },
     "execution_count": 32,
     "metadata": {},
     "output_type": "execute_result"
    }
   ],
   "source": [
    "# Дисперсия\n",
    "0.1 * 100, 0.9 * 10"
   ]
  },
  {
   "cell_type": "code",
   "execution_count": 33,
   "metadata": {},
   "outputs": [
    {
     "data": {
      "text/plain": [
       "2.0"
      ]
     },
     "execution_count": 33,
     "metadata": {},
     "output_type": "execute_result"
    }
   ],
   "source": [
    "C_soch(2, 1)"
   ]
  },
  {
   "cell_type": "code",
   "execution_count": null,
   "metadata": {},
   "outputs": [],
   "source": []
  }
 ],
 "metadata": {
  "kernelspec": {
   "display_name": "Python 3",
   "language": "python",
   "name": "python3"
  },
  "language_info": {
   "codemirror_mode": {
    "name": "ipython",
    "version": 3
   },
   "file_extension": ".py",
   "mimetype": "text/x-python",
   "name": "python",
   "nbconvert_exporter": "python",
   "pygments_lexer": "ipython3",
   "version": "3.8.5"
  }
 },
 "nbformat": 4,
 "nbformat_minor": 5
}
