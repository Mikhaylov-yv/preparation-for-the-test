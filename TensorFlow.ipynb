{
 "cells": [
  {
   "cell_type": "code",
   "execution_count": 6,
   "id": "4cb16054-1ea4-4664-b607-5f0e9da6bd05",
   "metadata": {},
   "outputs": [
    {
     "name": "stdout",
     "output_type": "stream",
     "text": [
      "2.6.0\n"
     ]
    }
   ],
   "source": [
    "import tensorflow as tf\n",
    "print(tf.__version__)\n",
    "tf.compat.v1.disable_eager_execution()"
   ]
  },
  {
   "cell_type": "code",
   "execution_count": 7,
   "id": "10e3c9f1-a3ce-4212-9c11-cfc064d8a713",
   "metadata": {},
   "outputs": [],
   "source": [
    "\n",
    "# m = tf.Variable(tf.random.normal([3, 2], mean=0.0, stddev=0.4), name='weights')\n",
    "# b = tf.Variable(tf.zeros([2]), name='biases')"
   ]
  },
  {
   "cell_type": "code",
   "execution_count": 8,
   "id": "5b8a57af-eb86-4b5a-9074-9a33af742ec5",
   "metadata": {},
   "outputs": [],
   "source": [
    "# m"
   ]
  },
  {
   "cell_type": "code",
   "execution_count": 9,
   "id": "f91c373d-128e-4248-a1b6-1eb25c43a296",
   "metadata": {},
   "outputs": [],
   "source": [
    "# b"
   ]
  },
  {
   "cell_type": "code",
   "execution_count": 13,
   "id": "f582cdec-ea8e-4e04-8e9c-b854ab64fcd0",
   "metadata": {},
   "outputs": [
    {
     "name": "stderr",
     "output_type": "stream",
     "text": [
      "2021-08-15 20:45:19.823879: I tensorflow/stream_executor/cuda/cuda_gpu_executor.cc:937] successful NUMA node read from SysFS had negative value (-1), but there must be at least one NUMA node, so returning NUMA node zero\n",
      "2021-08-15 20:45:19.824260: W tensorflow/stream_executor/platform/default/dso_loader.cc:64] Could not load dynamic library 'libcudart.so.11.0'; dlerror: libcudart.so.11.0: cannot open shared object file: No such file or directory\n",
      "2021-08-15 20:45:19.824332: W tensorflow/stream_executor/platform/default/dso_loader.cc:64] Could not load dynamic library 'libcublas.so.11'; dlerror: libcublas.so.11: cannot open shared object file: No such file or directory\n",
      "2021-08-15 20:45:19.824391: W tensorflow/stream_executor/platform/default/dso_loader.cc:64] Could not load dynamic library 'libcublasLt.so.11'; dlerror: libcublasLt.so.11: cannot open shared object file: No such file or directory\n",
      "2021-08-15 20:45:19.826168: W tensorflow/stream_executor/platform/default/dso_loader.cc:64] Could not load dynamic library 'libcusolver.so.11'; dlerror: libcusolver.so.11: cannot open shared object file: No such file or directory\n",
      "2021-08-15 20:45:19.826235: W tensorflow/stream_executor/platform/default/dso_loader.cc:64] Could not load dynamic library 'libcusparse.so.11'; dlerror: libcusparse.so.11: cannot open shared object file: No such file or directory\n",
      "2021-08-15 20:45:19.826295: W tensorflow/stream_executor/platform/default/dso_loader.cc:64] Could not load dynamic library 'libcudnn.so.8'; dlerror: libcudnn.so.8: cannot open shared object file: No such file or directory\n",
      "2021-08-15 20:45:19.826306: W tensorflow/core/common_runtime/gpu/gpu_device.cc:1835] Cannot dlopen some GPU libraries. Please make sure the missing libraries mentioned above are installed properly if you would like to use GPU. Follow the guide at https://www.tensorflow.org/install/gpu for how to download and setup the required libraries for your platform.\n",
      "Skipping registering GPU devices...\n",
      "2021-08-15 20:45:19.830002: I tensorflow/core/platform/cpu_feature_guard.cc:142] This TensorFlow binary is optimized with oneAPI Deep Neural Network Library (oneDNN) to use the following CPU instructions in performance-critical operations:  AVX2 FMA\n",
      "To enable them in other operations, rebuild TensorFlow with the appropriate compiler flags.\n"
     ]
    },
    {
     "ename": "InvalidArgumentError",
     "evalue": "In[0] ndims must be >= 2: 0\n\t [[node MatMul_1 (defined at tmp/ipykernel_15382/3001883113.py:3) ]]\n\nErrors may have originated from an input operation.\nInput Source operations connected to node MatMul_1:\n Placeholder_6 (defined at tmp/ipykernel_15382/3001883113.py:1)\t\n Placeholder_7 (defined at tmp/ipykernel_15382/3001883113.py:2)\n\nOriginal stack trace for 'MatMul_1':\n  File \"usr/lib/python3.9/runpy.py\", line 197, in _run_module_as_main\n    return _run_code(code, main_globals, None,\n  File \"usr/lib/python3.9/runpy.py\", line 87, in _run_code\n    exec(code, run_globals)\n  File \"home/mikhaylov-yv/PycharmProjects/venvs/Ds_img/lib/python3.9/site-packages/ipykernel_launcher.py\", line 16, in <module>\n    app.launch_new_instance()\n  File \"home/mikhaylov-yv/PycharmProjects/venvs/Ds_img/lib/python3.9/site-packages/traitlets/config/application.py\", line 845, in launch_instance\n    app.start()\n  File \"home/mikhaylov-yv/PycharmProjects/venvs/Ds_img/lib/python3.9/site-packages/ipykernel/kernelapp.py\", line 667, in start\n    self.io_loop.start()\n  File \"home/mikhaylov-yv/PycharmProjects/venvs/Ds_img/lib/python3.9/site-packages/tornado/platform/asyncio.py\", line 199, in start\n    self.asyncio_loop.run_forever()\n  File \"usr/lib/python3.9/asyncio/base_events.py\", line 596, in run_forever\n    self._run_once()\n  File \"usr/lib/python3.9/asyncio/base_events.py\", line 1890, in _run_once\n    handle._run()\n  File \"usr/lib/python3.9/asyncio/events.py\", line 80, in _run\n    self._context.run(self._callback, *self._args)\n  File \"home/mikhaylov-yv/PycharmProjects/venvs/Ds_img/lib/python3.9/site-packages/ipykernel/kernelbase.py\", line 456, in dispatch_queue\n    await self.process_one()\n  File \"home/mikhaylov-yv/PycharmProjects/venvs/Ds_img/lib/python3.9/site-packages/ipykernel/kernelbase.py\", line 445, in process_one\n    await dispatch(*args)\n  File \"home/mikhaylov-yv/PycharmProjects/venvs/Ds_img/lib/python3.9/site-packages/ipykernel/kernelbase.py\", line 352, in dispatch_shell\n    await result\n  File \"home/mikhaylov-yv/PycharmProjects/venvs/Ds_img/lib/python3.9/site-packages/ipykernel/kernelbase.py\", line 647, in execute_request\n    reply_content = await reply_content\n  File \"home/mikhaylov-yv/PycharmProjects/venvs/Ds_img/lib/python3.9/site-packages/ipykernel/ipkernel.py\", line 345, in do_execute\n    res = shell.run_cell(code, store_history=store_history, silent=silent)\n  File \"home/mikhaylov-yv/PycharmProjects/venvs/Ds_img/lib/python3.9/site-packages/ipykernel/zmqshell.py\", line 532, in run_cell\n    return super(ZMQInteractiveShell, self).run_cell(*args, **kwargs)\n  File \"home/mikhaylov-yv/PycharmProjects/venvs/Ds_img/lib/python3.9/site-packages/IPython/core/interactiveshell.py\", line 2898, in run_cell\n    result = self._run_cell(\n  File \"home/mikhaylov-yv/PycharmProjects/venvs/Ds_img/lib/python3.9/site-packages/IPython/core/interactiveshell.py\", line 2944, in _run_cell\n    return runner(coro)\n  File \"home/mikhaylov-yv/PycharmProjects/venvs/Ds_img/lib/python3.9/site-packages/IPython/core/async_helpers.py\", line 68, in _pseudo_sync_runner\n    coro.send(None)\n  File \"home/mikhaylov-yv/PycharmProjects/venvs/Ds_img/lib/python3.9/site-packages/IPython/core/interactiveshell.py\", line 3169, in run_cell_async\n    has_raised = await self.run_ast_nodes(code_ast.body, cell_name,\n  File \"home/mikhaylov-yv/PycharmProjects/venvs/Ds_img/lib/python3.9/site-packages/IPython/core/interactiveshell.py\", line 3361, in run_ast_nodes\n    if (await self.run_code(code, result,  async_=asy)):\n  File \"home/mikhaylov-yv/PycharmProjects/venvs/Ds_img/lib/python3.9/site-packages/IPython/core/interactiveshell.py\", line 3441, in run_code\n    exec(code_obj, self.user_global_ns, self.user_ns)\n  File \"tmp/ipykernel_15382/3001883113.py\", line 3, in <module>\n    output = tf.matmul(x, y)\n  File \"home/mikhaylov-yv/PycharmProjects/venvs/Ds_img/lib/python3.9/site-packages/tensorflow/python/util/dispatch.py\", line 206, in wrapper\n    return target(*args, **kwargs)\n  File \"home/mikhaylov-yv/PycharmProjects/venvs/Ds_img/lib/python3.9/site-packages/tensorflow/python/ops/math_ops.py\", line 3607, in matmul\n    return gen_math_ops.batch_mat_mul_v2(\n  File \"home/mikhaylov-yv/PycharmProjects/venvs/Ds_img/lib/python3.9/site-packages/tensorflow/python/ops/gen_math_ops.py\", line 1524, in batch_mat_mul_v2\n    _, _, _op, _outputs = _op_def_library._apply_op_helper(\n  File \"home/mikhaylov-yv/PycharmProjects/venvs/Ds_img/lib/python3.9/site-packages/tensorflow/python/framework/op_def_library.py\", line 748, in _apply_op_helper\n    op = g._create_op_internal(op_type_name, inputs, dtypes=None,\n  File \"home/mikhaylov-yv/PycharmProjects/venvs/Ds_img/lib/python3.9/site-packages/tensorflow/python/framework/ops.py\", line 3561, in _create_op_internal\n    ret = Operation(\n  File \"home/mikhaylov-yv/PycharmProjects/venvs/Ds_img/lib/python3.9/site-packages/tensorflow/python/framework/ops.py\", line 2045, in __init__\n    self._traceback = tf_stack.extract_stack_for_node(self._c_op)\n",
     "output_type": "error",
     "traceback": [
      "\u001b[0;31m---------------------------------------------------------------------------\u001b[0m",
      "\u001b[0;31mInvalidArgumentError\u001b[0m                      Traceback (most recent call last)",
      "\u001b[0;32m~/PycharmProjects/venvs/Ds_img/lib/python3.9/site-packages/tensorflow/python/client/session.py\u001b[0m in \u001b[0;36m_do_call\u001b[0;34m(self, fn, *args)\u001b[0m\n\u001b[1;32m   1374\u001b[0m     \u001b[0;32mtry\u001b[0m\u001b[0;34m:\u001b[0m\u001b[0;34m\u001b[0m\u001b[0;34m\u001b[0m\u001b[0m\n\u001b[0;32m-> 1375\u001b[0;31m       \u001b[0;32mreturn\u001b[0m \u001b[0mfn\u001b[0m\u001b[0;34m(\u001b[0m\u001b[0;34m*\u001b[0m\u001b[0margs\u001b[0m\u001b[0;34m)\u001b[0m\u001b[0;34m\u001b[0m\u001b[0;34m\u001b[0m\u001b[0m\n\u001b[0m\u001b[1;32m   1376\u001b[0m     \u001b[0;32mexcept\u001b[0m \u001b[0merrors\u001b[0m\u001b[0;34m.\u001b[0m\u001b[0mOpError\u001b[0m \u001b[0;32mas\u001b[0m \u001b[0me\u001b[0m\u001b[0;34m:\u001b[0m\u001b[0;34m\u001b[0m\u001b[0;34m\u001b[0m\u001b[0m\n",
      "\u001b[0;32m~/PycharmProjects/venvs/Ds_img/lib/python3.9/site-packages/tensorflow/python/client/session.py\u001b[0m in \u001b[0;36m_run_fn\u001b[0;34m(feed_dict, fetch_list, target_list, options, run_metadata)\u001b[0m\n\u001b[1;32m   1358\u001b[0m       \u001b[0mself\u001b[0m\u001b[0;34m.\u001b[0m\u001b[0m_extend_graph\u001b[0m\u001b[0;34m(\u001b[0m\u001b[0;34m)\u001b[0m\u001b[0;34m\u001b[0m\u001b[0;34m\u001b[0m\u001b[0m\n\u001b[0;32m-> 1359\u001b[0;31m       return self._call_tf_sessionrun(options, feed_dict, fetch_list,\n\u001b[0m\u001b[1;32m   1360\u001b[0m                                       target_list, run_metadata)\n",
      "\u001b[0;32m~/PycharmProjects/venvs/Ds_img/lib/python3.9/site-packages/tensorflow/python/client/session.py\u001b[0m in \u001b[0;36m_call_tf_sessionrun\u001b[0;34m(self, options, feed_dict, fetch_list, target_list, run_metadata)\u001b[0m\n\u001b[1;32m   1450\u001b[0m                           run_metadata):\n\u001b[0;32m-> 1451\u001b[0;31m     return tf_session.TF_SessionRun_wrapper(self._session, options, feed_dict,\n\u001b[0m\u001b[1;32m   1452\u001b[0m                                             \u001b[0mfetch_list\u001b[0m\u001b[0;34m,\u001b[0m \u001b[0mtarget_list\u001b[0m\u001b[0;34m,\u001b[0m\u001b[0;34m\u001b[0m\u001b[0;34m\u001b[0m\u001b[0m\n",
      "\u001b[0;31mInvalidArgumentError\u001b[0m: In[0] ndims must be >= 2: 0\n\t [[{{node MatMul_1}}]]",
      "\nDuring handling of the above exception, another exception occurred:\n",
      "\u001b[0;31mInvalidArgumentError\u001b[0m                      Traceback (most recent call last)",
      "\u001b[0;32m/tmp/ipykernel_15382/3001883113.py\u001b[0m in \u001b[0;36m<module>\u001b[0;34m\u001b[0m\n\u001b[1;32m      3\u001b[0m \u001b[0moutput\u001b[0m \u001b[0;34m=\u001b[0m \u001b[0mtf\u001b[0m\u001b[0;34m.\u001b[0m\u001b[0mmatmul\u001b[0m\u001b[0;34m(\u001b[0m\u001b[0mx\u001b[0m\u001b[0;34m,\u001b[0m \u001b[0my\u001b[0m\u001b[0;34m)\u001b[0m\u001b[0;34m\u001b[0m\u001b[0;34m\u001b[0m\u001b[0m\n\u001b[1;32m      4\u001b[0m \u001b[0;32mwith\u001b[0m \u001b[0mtf\u001b[0m\u001b[0;34m.\u001b[0m\u001b[0mcompat\u001b[0m\u001b[0;34m.\u001b[0m\u001b[0mv1\u001b[0m\u001b[0;34m.\u001b[0m\u001b[0mSession\u001b[0m\u001b[0;34m(\u001b[0m\u001b[0;34m)\u001b[0m \u001b[0;32mas\u001b[0m \u001b[0msess\u001b[0m\u001b[0;34m:\u001b[0m\u001b[0;34m\u001b[0m\u001b[0;34m\u001b[0m\u001b[0m\n\u001b[0;32m----> 5\u001b[0;31m     \u001b[0mresult\u001b[0m \u001b[0;34m=\u001b[0m \u001b[0msess\u001b[0m\u001b[0;34m.\u001b[0m\u001b[0mrun\u001b[0m\u001b[0;34m(\u001b[0m\u001b[0moutput\u001b[0m\u001b[0;34m,\u001b[0m \u001b[0mfeed_dict\u001b[0m \u001b[0;34m=\u001b[0m \u001b[0;34m{\u001b[0m\u001b[0mx\u001b[0m\u001b[0;34m:\u001b[0m\u001b[0;36m2\u001b[0m\u001b[0;34m,\u001b[0m \u001b[0my\u001b[0m\u001b[0;34m:\u001b[0m \u001b[0;36m3\u001b[0m\u001b[0;34m}\u001b[0m\u001b[0;34m)\u001b[0m\u001b[0;34m\u001b[0m\u001b[0;34m\u001b[0m\u001b[0m\n\u001b[0m\u001b[1;32m      6\u001b[0m \u001b[0mresult\u001b[0m\u001b[0;34m\u001b[0m\u001b[0;34m\u001b[0m\u001b[0m\n",
      "\u001b[0;32m~/PycharmProjects/venvs/Ds_img/lib/python3.9/site-packages/tensorflow/python/client/session.py\u001b[0m in \u001b[0;36mrun\u001b[0;34m(self, fetches, feed_dict, options, run_metadata)\u001b[0m\n\u001b[1;32m    965\u001b[0m \u001b[0;34m\u001b[0m\u001b[0m\n\u001b[1;32m    966\u001b[0m     \u001b[0;32mtry\u001b[0m\u001b[0;34m:\u001b[0m\u001b[0;34m\u001b[0m\u001b[0;34m\u001b[0m\u001b[0m\n\u001b[0;32m--> 967\u001b[0;31m       result = self._run(None, fetches, feed_dict, options_ptr,\n\u001b[0m\u001b[1;32m    968\u001b[0m                          run_metadata_ptr)\n\u001b[1;32m    969\u001b[0m       \u001b[0;32mif\u001b[0m \u001b[0mrun_metadata\u001b[0m\u001b[0;34m:\u001b[0m\u001b[0;34m\u001b[0m\u001b[0;34m\u001b[0m\u001b[0m\n",
      "\u001b[0;32m~/PycharmProjects/venvs/Ds_img/lib/python3.9/site-packages/tensorflow/python/client/session.py\u001b[0m in \u001b[0;36m_run\u001b[0;34m(self, handle, fetches, feed_dict, options, run_metadata)\u001b[0m\n\u001b[1;32m   1188\u001b[0m     \u001b[0;31m# or if the call is a partial run that specifies feeds.\u001b[0m\u001b[0;34m\u001b[0m\u001b[0;34m\u001b[0m\u001b[0;34m\u001b[0m\u001b[0m\n\u001b[1;32m   1189\u001b[0m     \u001b[0;32mif\u001b[0m \u001b[0mfinal_fetches\u001b[0m \u001b[0;32mor\u001b[0m \u001b[0mfinal_targets\u001b[0m \u001b[0;32mor\u001b[0m \u001b[0;34m(\u001b[0m\u001b[0mhandle\u001b[0m \u001b[0;32mand\u001b[0m \u001b[0mfeed_dict_tensor\u001b[0m\u001b[0;34m)\u001b[0m\u001b[0;34m:\u001b[0m\u001b[0;34m\u001b[0m\u001b[0;34m\u001b[0m\u001b[0m\n\u001b[0;32m-> 1190\u001b[0;31m       results = self._do_run(handle, final_targets, final_fetches,\n\u001b[0m\u001b[1;32m   1191\u001b[0m                              feed_dict_tensor, options, run_metadata)\n\u001b[1;32m   1192\u001b[0m     \u001b[0;32melse\u001b[0m\u001b[0;34m:\u001b[0m\u001b[0;34m\u001b[0m\u001b[0;34m\u001b[0m\u001b[0m\n",
      "\u001b[0;32m~/PycharmProjects/venvs/Ds_img/lib/python3.9/site-packages/tensorflow/python/client/session.py\u001b[0m in \u001b[0;36m_do_run\u001b[0;34m(self, handle, target_list, fetch_list, feed_dict, options, run_metadata)\u001b[0m\n\u001b[1;32m   1366\u001b[0m \u001b[0;34m\u001b[0m\u001b[0m\n\u001b[1;32m   1367\u001b[0m     \u001b[0;32mif\u001b[0m \u001b[0mhandle\u001b[0m \u001b[0;32mis\u001b[0m \u001b[0;32mNone\u001b[0m\u001b[0;34m:\u001b[0m\u001b[0;34m\u001b[0m\u001b[0;34m\u001b[0m\u001b[0m\n\u001b[0;32m-> 1368\u001b[0;31m       return self._do_call(_run_fn, feeds, fetches, targets, options,\n\u001b[0m\u001b[1;32m   1369\u001b[0m                            run_metadata)\n\u001b[1;32m   1370\u001b[0m     \u001b[0;32melse\u001b[0m\u001b[0;34m:\u001b[0m\u001b[0;34m\u001b[0m\u001b[0;34m\u001b[0m\u001b[0m\n",
      "\u001b[0;32m~/PycharmProjects/venvs/Ds_img/lib/python3.9/site-packages/tensorflow/python/client/session.py\u001b[0m in \u001b[0;36m_do_call\u001b[0;34m(self, fn, *args)\u001b[0m\n\u001b[1;32m   1392\u001b[0m                     \u001b[0;34m'\\nsession_config.graph_options.rewrite_options.'\u001b[0m\u001b[0;34m\u001b[0m\u001b[0;34m\u001b[0m\u001b[0m\n\u001b[1;32m   1393\u001b[0m                     'disable_meta_optimizer = True')\n\u001b[0;32m-> 1394\u001b[0;31m       \u001b[0;32mraise\u001b[0m \u001b[0mtype\u001b[0m\u001b[0;34m(\u001b[0m\u001b[0me\u001b[0m\u001b[0;34m)\u001b[0m\u001b[0;34m(\u001b[0m\u001b[0mnode_def\u001b[0m\u001b[0;34m,\u001b[0m \u001b[0mop\u001b[0m\u001b[0;34m,\u001b[0m \u001b[0mmessage\u001b[0m\u001b[0;34m)\u001b[0m  \u001b[0;31m# pylint: disable=no-value-for-parameter\u001b[0m\u001b[0;34m\u001b[0m\u001b[0;34m\u001b[0m\u001b[0m\n\u001b[0m\u001b[1;32m   1395\u001b[0m \u001b[0;34m\u001b[0m\u001b[0m\n\u001b[1;32m   1396\u001b[0m   \u001b[0;32mdef\u001b[0m \u001b[0m_extend_graph\u001b[0m\u001b[0;34m(\u001b[0m\u001b[0mself\u001b[0m\u001b[0;34m)\u001b[0m\u001b[0;34m:\u001b[0m\u001b[0;34m\u001b[0m\u001b[0;34m\u001b[0m\u001b[0m\n",
      "\u001b[0;31mInvalidArgumentError\u001b[0m: In[0] ndims must be >= 2: 0\n\t [[node MatMul_1 (defined at tmp/ipykernel_15382/3001883113.py:3) ]]\n\nErrors may have originated from an input operation.\nInput Source operations connected to node MatMul_1:\n Placeholder_6 (defined at tmp/ipykernel_15382/3001883113.py:1)\t\n Placeholder_7 (defined at tmp/ipykernel_15382/3001883113.py:2)\n\nOriginal stack trace for 'MatMul_1':\n  File \"usr/lib/python3.9/runpy.py\", line 197, in _run_module_as_main\n    return _run_code(code, main_globals, None,\n  File \"usr/lib/python3.9/runpy.py\", line 87, in _run_code\n    exec(code, run_globals)\n  File \"home/mikhaylov-yv/PycharmProjects/venvs/Ds_img/lib/python3.9/site-packages/ipykernel_launcher.py\", line 16, in <module>\n    app.launch_new_instance()\n  File \"home/mikhaylov-yv/PycharmProjects/venvs/Ds_img/lib/python3.9/site-packages/traitlets/config/application.py\", line 845, in launch_instance\n    app.start()\n  File \"home/mikhaylov-yv/PycharmProjects/venvs/Ds_img/lib/python3.9/site-packages/ipykernel/kernelapp.py\", line 667, in start\n    self.io_loop.start()\n  File \"home/mikhaylov-yv/PycharmProjects/venvs/Ds_img/lib/python3.9/site-packages/tornado/platform/asyncio.py\", line 199, in start\n    self.asyncio_loop.run_forever()\n  File \"usr/lib/python3.9/asyncio/base_events.py\", line 596, in run_forever\n    self._run_once()\n  File \"usr/lib/python3.9/asyncio/base_events.py\", line 1890, in _run_once\n    handle._run()\n  File \"usr/lib/python3.9/asyncio/events.py\", line 80, in _run\n    self._context.run(self._callback, *self._args)\n  File \"home/mikhaylov-yv/PycharmProjects/venvs/Ds_img/lib/python3.9/site-packages/ipykernel/kernelbase.py\", line 456, in dispatch_queue\n    await self.process_one()\n  File \"home/mikhaylov-yv/PycharmProjects/venvs/Ds_img/lib/python3.9/site-packages/ipykernel/kernelbase.py\", line 445, in process_one\n    await dispatch(*args)\n  File \"home/mikhaylov-yv/PycharmProjects/venvs/Ds_img/lib/python3.9/site-packages/ipykernel/kernelbase.py\", line 352, in dispatch_shell\n    await result\n  File \"home/mikhaylov-yv/PycharmProjects/venvs/Ds_img/lib/python3.9/site-packages/ipykernel/kernelbase.py\", line 647, in execute_request\n    reply_content = await reply_content\n  File \"home/mikhaylov-yv/PycharmProjects/venvs/Ds_img/lib/python3.9/site-packages/ipykernel/ipkernel.py\", line 345, in do_execute\n    res = shell.run_cell(code, store_history=store_history, silent=silent)\n  File \"home/mikhaylov-yv/PycharmProjects/venvs/Ds_img/lib/python3.9/site-packages/ipykernel/zmqshell.py\", line 532, in run_cell\n    return super(ZMQInteractiveShell, self).run_cell(*args, **kwargs)\n  File \"home/mikhaylov-yv/PycharmProjects/venvs/Ds_img/lib/python3.9/site-packages/IPython/core/interactiveshell.py\", line 2898, in run_cell\n    result = self._run_cell(\n  File \"home/mikhaylov-yv/PycharmProjects/venvs/Ds_img/lib/python3.9/site-packages/IPython/core/interactiveshell.py\", line 2944, in _run_cell\n    return runner(coro)\n  File \"home/mikhaylov-yv/PycharmProjects/venvs/Ds_img/lib/python3.9/site-packages/IPython/core/async_helpers.py\", line 68, in _pseudo_sync_runner\n    coro.send(None)\n  File \"home/mikhaylov-yv/PycharmProjects/venvs/Ds_img/lib/python3.9/site-packages/IPython/core/interactiveshell.py\", line 3169, in run_cell_async\n    has_raised = await self.run_ast_nodes(code_ast.body, cell_name,\n  File \"home/mikhaylov-yv/PycharmProjects/venvs/Ds_img/lib/python3.9/site-packages/IPython/core/interactiveshell.py\", line 3361, in run_ast_nodes\n    if (await self.run_code(code, result,  async_=asy)):\n  File \"home/mikhaylov-yv/PycharmProjects/venvs/Ds_img/lib/python3.9/site-packages/IPython/core/interactiveshell.py\", line 3441, in run_code\n    exec(code_obj, self.user_global_ns, self.user_ns)\n  File \"tmp/ipykernel_15382/3001883113.py\", line 3, in <module>\n    output = tf.matmul(x, y)\n  File \"home/mikhaylov-yv/PycharmProjects/venvs/Ds_img/lib/python3.9/site-packages/tensorflow/python/util/dispatch.py\", line 206, in wrapper\n    return target(*args, **kwargs)\n  File \"home/mikhaylov-yv/PycharmProjects/venvs/Ds_img/lib/python3.9/site-packages/tensorflow/python/ops/math_ops.py\", line 3607, in matmul\n    return gen_math_ops.batch_mat_mul_v2(\n  File \"home/mikhaylov-yv/PycharmProjects/venvs/Ds_img/lib/python3.9/site-packages/tensorflow/python/ops/gen_math_ops.py\", line 1524, in batch_mat_mul_v2\n    _, _, _op, _outputs = _op_def_library._apply_op_helper(\n  File \"home/mikhaylov-yv/PycharmProjects/venvs/Ds_img/lib/python3.9/site-packages/tensorflow/python/framework/op_def_library.py\", line 748, in _apply_op_helper\n    op = g._create_op_internal(op_type_name, inputs, dtypes=None,\n  File \"home/mikhaylov-yv/PycharmProjects/venvs/Ds_img/lib/python3.9/site-packages/tensorflow/python/framework/ops.py\", line 3561, in _create_op_internal\n    ret = Operation(\n  File \"home/mikhaylov-yv/PycharmProjects/venvs/Ds_img/lib/python3.9/site-packages/tensorflow/python/framework/ops.py\", line 2045, in __init__\n    self._traceback = tf_stack.extract_stack_for_node(self._c_op)\n"
     ]
    }
   ],
   "source": [
    "x = tf.compat.v1.placeholder(tf.float32)\n",
    "y = tf.compat.v1.placeholder(tf.float32)\n",
    "output = tf.matmul(x, y)\n",
    "with tf.compat.v1.Session() as sess:\n",
    "    result = sess.run(output, feed_dict = {x:2, y: 3})\n",
    "result"
   ]
  },
  {
   "cell_type": "code",
   "execution_count": null,
   "id": "2d4997f6-5b6a-4efd-a36e-edb4c3ccd697",
   "metadata": {},
   "outputs": [],
   "source": []
  }
 ],
 "metadata": {
  "kernelspec": {
   "display_name": "Python 3 (ipykernel)",
   "language": "python",
   "name": "python3"
  },
  "language_info": {
   "codemirror_mode": {
    "name": "ipython",
    "version": 3
   },
   "file_extension": ".py",
   "mimetype": "text/x-python",
   "name": "python",
   "nbconvert_exporter": "python",
   "pygments_lexer": "ipython3",
   "version": "3.9.6"
  }
 },
 "nbformat": 4,
 "nbformat_minor": 5
}
